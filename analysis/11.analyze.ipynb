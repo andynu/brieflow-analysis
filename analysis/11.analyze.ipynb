{
 "cells": [
  {
   "cell_type": "markdown",
   "id": "349e4927",
   "metadata": {},
   "source": [
    "# Downstream Analysis\n",
    "\n",
    "This notebook should be used for downstream analysis of your OPS screen.\n",
    "Cells marked with <font color='red'>SET PARAMETERS</font> contain crucial variables that need to be set according to your specific experimental setup and data organization.\n",
    "Please review and modify these variables as needed before proceeding with the analysis."
   ]
  },
  {
   "cell_type": "markdown",
   "id": "42a52bb7",
   "metadata": {},
   "source": [
    "## <font color='red'>SET PARAMETERS</font>\n",
    "\n",
    "### Fixed parameters for cluster module\n",
    "\n",
    "- `CONFIG_FILE_PATH`: Path to a Brieflow config file used during processing. Absolute or relative to where workflows are run from."
   ]
  },
  {
   "cell_type": "code",
   "execution_count": null,
   "id": "9c90638f",
   "metadata": {},
   "outputs": [],
   "source": [
    "CONFIG_FILE_PATH = \"config/config.yml\""
   ]
  },
  {
   "cell_type": "code",
   "execution_count": null,
   "id": "fe24b1c3",
   "metadata": {},
   "outputs": [],
   "source": [
    "from pathlib import Path\n",
    "import warnings\n",
    "warnings.filterwarnings('ignore', category=UserWarning) # filter Phate warnings\n",
    "\n",
    "import yaml\n",
    "import pandas as pd\n",
    "import numpy as np\n",
    "import os"
   ]
  },
  {
   "cell_type": "code",
   "execution_count": null,
   "id": "8874ad09",
   "metadata": {},
   "outputs": [],
   "source": [
    "# load config file and determine root path\n",
    "with open(CONFIG_FILE_PATH, \"r\") as config_file:\n",
    "    config = yaml.safe_load(config_file)\n",
    "    ROOT_FP = Path(config[\"all\"][\"root_fp\"])\n",
    "\n",
    "# load cell classes and channel combos\n",
    "cluster_combo_fp = config[\"cluster\"][\"cluster_combo_fp\"]\n",
    "cluster_combos = pd.read_csv(cluster_combo_fp, sep=\"\\t\")\n",
    "\n",
    "CHANNEL_COMBOS = list(cluster_combos[\"channel_combo\"].unique())\n",
    "print(f\"Channel Combos: {CHANNEL_COMBOS}\")\n",
    "\n",
    "CELL_CLASSES = list(cluster_combos[\"cell_class\"].unique())\n",
    "print(f\"Cell classes: {CELL_CLASSES}\")\n",
    "\n",
    "LEIDEN_RESOLUTION = list(cluster_combos[\"leiden_resolution\"].unique())\n",
    "print(f\"Leiden resolution: {LEIDEN_RESOLUTION}\")"
   ]
  },
  {
   "cell_type": "markdown",
   "id": "10960eb9",
   "metadata": {},
   "source": [
    "## <font color='red'>SET PARAMETERS</font>\n",
    "\n",
    "### Cluster Selection for Analysis\n",
    "\n",
    "Set these parameters to select the specific cluster data to analyze:\n",
    "- `CHANNEL_COMBO`: Select from available channel combinations,\n",
    "- `CELL_CLASS`: Select from available cell classes,\n",
    "- `LEIDEN_RESOLUTION`: Select from available Leiden resolutions,\n",
    "\n",
    "These parameters determine which folder of cluster data will be analyzed."
   ]
  },
  {
   "cell_type": "code",
   "execution_count": null,
   "id": "8e47fc03",
   "metadata": {},
   "outputs": [],
   "source": [
    "CHANNEL_COMBO = None\n",
    "CELL_CLASS = None\n",
    "LEIDEN_RESOLUTION = None"
   ]
  },
  {
   "cell_type": "code",
   "execution_count": null,
   "id": "03ccf5ea",
   "metadata": {},
   "outputs": [],
   "source": [
    "cluster_path = ROOT_FP / \"cluster\" / CHANNEL_COMBO / CELL_CLASS / str(LEIDEN_RESOLUTION)\n",
    "print(f\"Cluster path: {cluster_path}\")\n",
    "\n",
    "if not cluster_path.exists():\n",
    "    print(f\"Cluster directory does not exist: {cluster_path}\")\n",
    "else:\n",
    "    print(f\"Cluster directory found\")"
   ]
  },
  {
   "cell_type": "markdown",
   "id": "a642a5d2",
   "metadata": {},
   "source": [
    "# Mozzarellm: LLM-based Gene Cluster Analysis\n",
    "\n",
    "Mozzarellm is a Python package that leverages Large Language Models (LLMs) to analyze gene clusters for pathway identification and novel gene discovery. This notebook guides you through the process of:\n",
    "\n",
    "1. **Loading and reshaping gene cluster data** from your OPS screen\n",
    "2. **Analyzing gene clusters with LLMs** to identify biological pathways\n",
    "3. **Categorizing genes** as established pathway members, uncharacterized, or having novel potential roles\n",
    "4. **Prioritizing candidates** for experimental validation\n",
    "\n",
    "## Prerequisites\n",
    "\n",
    "### Package Installation\n",
    "You need to install the mozzarellm package in your Brieflow environment:\n",
    "\n",
    "```bash\n",
    "pip install git+https://github.com/cheeseman-lab/mozzarellm.git\n",
    "```\n",
    "\n",
    "### API Keys\n",
    "Mozzarellm requires API keys to access LLM services. You need at least one of these keys:\n",
    "\n",
    "- **OpenAI API Key**: Required for GPT models (gpt-4o, gpt-4.5, etc.)\n",
    "- **Anthropic API Key**: Required for Claude models (claude-3-7-sonnet, etc.)\n",
    "- **Google API Key**: Required for Gemini models (gemini-2.0-pro, etc.)\n",
    "\n",
    "These keys provide access to paid API services, and usage will incur costs based on the number of tokens processed. The cost per analysis varies by model but typically ranges from $0.01-$0.10 per cluster, depending on cluster size and model choice. For this reason, we only run these analyses on a specific chosen Leiden resolution, rather than across all of the generated possible resolutions."
   ]
  },
  {
   "cell_type": "code",
   "execution_count": null,
   "id": "e305acbb",
   "metadata": {},
   "outputs": [],
   "source": [
    "from mozzarellm import analyze_gene_clusters, reshape_to_clusters"
   ]
  },
  {
   "cell_type": "code",
   "execution_count": null,
   "id": "11a30a0e",
   "metadata": {},
   "outputs": [],
   "source": [
    "# Set API keys\n",
    "os.environ[\"OPENAI_API_KEY\"] = \"your_openai_key_here\"\n",
    "os.environ[\"ANTHROPIC_API_KEY\"] = \"your_anthropic_key_here\"  \n",
    "os.environ[\"GOOGLE_API_KEY\"] = \"your_google_key_here\""
   ]
  },
  {
   "cell_type": "code",
   "execution_count": null,
   "id": "fad20fa3",
   "metadata": {},
   "outputs": [],
   "source": [
    "# Create results directory\n",
    "RESULTS_DIR = cluster_path / \"mozzarellm\"\n",
    "RESULTS_DIR.mkdir(parents=True, exist_ok=True)\n",
    "print(f\"Results will be saved to: {RESULTS_DIR}\")"
   ]
  },
  {
   "cell_type": "code",
   "execution_count": null,
   "id": "5bc9ad9b",
   "metadata": {},
   "outputs": [],
   "source": [
    "cluster_file = cluster_path / \"phate_leiden_clustering.tsv\"\n",
    "cluster_df = pd.read_csv(cluster_file, sep=\"\\t\")\n",
    "display(cluster_df)"
   ]
  },
  {
   "cell_type": "markdown",
   "id": "a76b059b",
   "metadata": {},
   "source": [
    "## <font color='red'>SET PARAMETERS</font>: \n",
    "\n",
    "### Data Reshaping\n",
    "\n",
    "Configure gene clustering parameters:\n",
    "- `GENE_COL`: Column containing gene identifiers\n",
    "- `CLUSTER_COL`: Column containing cluster assignments\n",
    "- `UNIPROT_COL`: Column with UniProt annotations\n",
    "- `GENE_SEP`: Separator for gene lists in output\n",
    "\n",
    "These parameters control how gene-level data is converted to cluster-level data."
   ]
  },
  {
   "cell_type": "code",
   "execution_count": null,
   "id": "4c9dde0a",
   "metadata": {},
   "outputs": [],
   "source": [
    "# Define paths and parameters for the analysis\n",
    "PROCESSED_FILE = RESULTS_DIR / \"cluster_data.csv\"  \n",
    "GENE_FEATURES_FILE = RESULTS_DIR / \"uniprot_data.csv\"  \n",
    "\n",
    "# Set up parameters for reshape and analysis - adjust based on your dataset\n",
    "GENE_COL = \"gene_symbol_0\"\n",
    "CLUSTER_COL = \"cluster\"\n",
    "UNIPROT_COL = \"uniprot_function\"\n",
    "GENE_SEP = \";\""
   ]
  },
  {
   "cell_type": "code",
   "execution_count": null,
   "id": "17f5d4c6",
   "metadata": {},
   "outputs": [],
   "source": [
    "cluster_reshaped_df = reshape_to_clusters(\n",
    "    input_df=cluster_df,\n",
    "    output_file=PROCESSED_FILE,\n",
    "    gene_col=GENE_COL,\n",
    "    cluster_col=CLUSTER_COL,\n",
    "    gene_sep=GENE_SEP,\n",
    "    uniprot_col=UNIPROT_COL,\n",
    "    gene_features_output=GENE_FEATURES_FILE,\n",
    "    verbose=True\n",
    ")\n",
    "\n",
    "display(cluster_reshaped_df)"
   ]
  },
  {
   "cell_type": "markdown",
   "id": "f53ee30e",
   "metadata": {},
   "source": [
    "## <font color='red'>SET PARAMETERS</font>: \n",
    "\n",
    "### LLM Analysis Configuration\n",
    "\n",
    "Configure the LLM analysis:\n",
    "- `CONFIG_PATH`: Path to LLM configuration (e.g., 'config_openai.json')\n",
    "- `SCREEN_INFO_PATH`: Path to screen context description (e.g., 'HeLa_interphase_screen_info.txt')\n",
    "- `CUSTOM_PROMPT_PATH`: Path to analysis prompt template (e.g., 'top_targets.txt')\n",
    "- `MODEL_NAME`: LLM to use for analysis (e.g., 'gpt-4o')\n",
    "- `CLUSTER_COL_LLM`/`GENE_COL_LLM`: Automatically derived from the reshaped dataframe\n",
    "\n",
    "**About the prompt files:**\n",
    "- `HeLa_interphase_screen_info.txt`: Provides biological context about the [HeLa cell interphase screen](https://github.com/cheeseman-lab/mozzarellm/blob/main/mozzarellm/prompts/HeLa_interphase_screen_info.txt) to help the LLM understand the experimental setup\n",
    "- `top_targets.txt`: Defines how [genes](https://github.com/cheeseman-lab/mozzarellm/blob/main/mozzarellm/prompts/top_targets.txt) should be categorized and prioritized based on pathway involvement\n",
    "\n",
    "If you wish to use custom prompts instead of the defaults, provide the full path to your custom prompt files.\n",
    "\n",
    "This analysis will identify pathways, categorize genes as established, uncharacterized, or having novel roles, and prioritize them for experimental follow-up."
   ]
  },
  {
   "cell_type": "code",
   "execution_count": null,
   "id": "c612ca80",
   "metadata": {},
   "outputs": [],
   "source": [
    "# Set up model configs\n",
    "CONFIG_PATH = \"config_openai.json\"  \n",
    "SCREEN_INFO_PATH = \"HeLa_interphase_screen_info.txt\" \n",
    "CUSTOM_PROMPT_PATH = \"top_targets.txt\" \n",
    "MODEL_NAME = \"gpt-4o\"\n",
    "CLUSTER_COL_LLM = cluster_reshaped_df.columns[0]\n",
    "GENE_COL_LLM = cluster_reshaped_df.columns[1]"
   ]
  },
  {
   "cell_type": "code",
   "execution_count": null,
   "id": "0a8ddfb5",
   "metadata": {},
   "outputs": [],
   "source": [
    "# Run the analysis\n",
    "results = analyze_gene_clusters(\n",
    "    input_file=PROCESSED_FILE,\n",
    "    output_file=f\"{RESULTS_DIR}/{MODEL_NAME}\",\n",
    "    config_path=CONFIG_PATH,\n",
    "    model_name=MODEL_NAME,  \n",
    "    custom_prompt_path=CUSTOM_PROMPT_PATH,\n",
    "    gene_features_path=GENE_FEATURES_FILE,\n",
    "    screen_info_path=SCREEN_INFO_PATH,\n",
    "    gene_column=GENE_COL_LLM,\n",
    "    gene_sep=GENE_SEP,\n",
    "    batch_size=1,\n",
    "    cluster_id_column=CLUSTER_COL_LLM,\n",
    "    # Uncomment to limit the number of clusters processed:\n",
    "    # start_idx=0,  # Start at specific index\n",
    "    # end_idx=5,   # Process only up to this index\n",
    ")\n"
   ]
  },
  {
   "cell_type": "markdown",
   "id": "4de6202a",
   "metadata": {},
   "source": [
    "# Feature Plot Analysis\n",
    "\n",
    "Feature plots provide powerful visualization methods to understand the phenotypic effects of gene knockdowns in your OPS screen. These visualizations help identify patterns, correlations, and outliers in your data. While the LLM analysis identifies biological pathways and gene functions at a high level, feature plots reveal the specific phenotypic changes caused by individual gene perturbations. This section demonstrates how to create four types of visualizations for specific genes and features:\n",
    "\n",
    "### 1. Waterfall Plots\n",
    "Waterfall plots rank genes by their effect on a single feature, creating a cascade visualization that highlights the genes with the strongest positive or negative effects.\n",
    "- Identifying top hits for a phenotype of interest\n",
    "- Comparing the magnitude of effects across genes\n",
    "- Visualizing the distribution of effects across the entire dataset\n",
    "\n",
    "### 2. Two-Feature Plots\n",
    "Two-feature plots display the relationship between two different phenotypic measurements across genes.\n",
    "- Discover correlations between different cellular phenotypes\n",
    "- Identify genes that affect multiple features in interesting ways\n",
    "- Cluster genes with similar phenotypic profiles\n",
    "\n",
    "### 3. Volcano Plots\n",
    "Volcano plots combine effect size (fold change) and statistical significance (p-value) in a single visualization.\n",
    "- Distinguishing between statistically significant and biologically relevant effects\n",
    "- Identifying genes with both strong and reliable phenotypic changes\n",
    "- Establishing appropriate thresholds for hit selection\n",
    "\n",
    "### 4. Heatmaps\n",
    "Heatmaps visualize multiple features across multiple genes simultaneously, providing a comprehensive view of phenotypic signatures.\n",
    "- Revealing patterns across large sets of genes and features\n",
    "- Identifying clusters of genes with similar phenotypic profiles\n",
    "- Comparing the effects of gene perturbations across different cell compartments or processes\n",
    "\n",
    "These visualizations are created interactively in this notebook rather than through the automated Snakemake pipeline because the number of possible plot combinations is enormous (genes × features × plot types). Different analyses require different combinations based on your specific biological questions, and interactive exploration allows you to focus on the most interesting results from your study."
   ]
  }
 ],
 "metadata": {
  "kernelspec": {
   "display_name": "brieflow_aconcagua_env",
   "language": "python",
   "name": "python3"
  },
  "language_info": {
   "codemirror_mode": {
    "name": "ipython",
    "version": 3
   },
   "file_extension": ".py",
   "mimetype": "text/x-python",
   "name": "python",
   "nbconvert_exporter": "python",
   "pygments_lexer": "ipython3",
   "version": "3.11.11"
  }
 },
 "nbformat": 4,
 "nbformat_minor": 5
}
